{
 "cells": [
  {
   "cell_type": "code",
   "execution_count": 1,
   "metadata": {},
   "outputs": [],
   "source": [
    "#import pymongo pacakage\n",
    "import pymongo"
   ]
  },
  {
   "cell_type": "code",
   "execution_count": 2,
   "metadata": {},
   "outputs": [],
   "source": [
    "#creating client to server\n",
    "client = pymongo.MongoClient(\"mongodb://127.0.0.1:27017/\")"
   ]
  },
  {
   "cell_type": "code",
   "execution_count": 3,
   "metadata": {},
   "outputs": [
    {
     "data": {
      "text/plain": [
       "<pymongo.results.InsertOneResult at 0x25a6af97ec8>"
      ]
     },
     "execution_count": 3,
     "metadata": {},
     "output_type": "execute_result"
    }
   ],
   "source": [
    "#\n",
    "mydb = client[\"Employee\"]\n",
    "employeeinfo = mydb.Employeeinformation\n",
    "record = {\n",
    "    \"firstname\":\"Krishnan\",\n",
    "    \"lastname\" : \"s\",\n",
    "    \"department\" : \"Economics\"\n",
    "}\n",
    "employeeinfo.insert_one(record)"
   ]
  },
  {
   "cell_type": "code",
   "execution_count": 4,
   "metadata": {},
   "outputs": [
    {
     "data": {
      "text/plain": [
       "<pymongo.results.InsertManyResult at 0x25a6896d6c8>"
      ]
     },
     "execution_count": 4,
     "metadata": {},
     "output_type": "execute_result"
    }
   ],
   "source": [
    "record = [{\n",
    "    \"firstname\":\"Krishnan\",\n",
    "    \"lastname\" : \"K\",\n",
    "    \"department\" : \"Aeronautical\"\n",
    "},\n",
    "{\n",
    "    \"firstname\":\"Munirathinam\",\n",
    "    \"lastname\" : \"k\",\n",
    "    \"department\" : \"caretaker\"\n",
    "},\n",
    "{\n",
    "    \"firstname\" :\"punithavalli\",\n",
    "    \"lastname\" :\"K\",\n",
    "    \"department\":\"maths\"\n",
    "},\n",
    "{\n",
    "    \"firstname\" : \"Prabavathi\",\n",
    "    \"lastname\" : \"K\",\n",
    "    \"department\" : \"English\"\n",
    "}]\n",
    "\n",
    "employeeinfo.insert_many(record)"
   ]
  },
  {
   "cell_type": "code",
   "execution_count": 5,
   "metadata": {},
   "outputs": [
    {
     "data": {
      "text/plain": [
       "{'_id': ObjectId('5f753323bb542c155279e8b1'),\n",
       " 'firstname': 'Krishnan',\n",
       " 'lastname': 's',\n",
       " 'department': 'Economics'}"
      ]
     },
     "execution_count": 5,
     "metadata": {},
     "output_type": "execute_result"
    }
   ],
   "source": [
    "# simple way of querying\n",
    "employeeinfo.find_one()"
   ]
  },
  {
   "cell_type": "code",
   "execution_count": 6,
   "metadata": {},
   "outputs": [
    {
     "name": "stdout",
     "output_type": "stream",
     "text": [
      "{'_id': ObjectId('5f753323bb542c155279e8b1'), 'firstname': 'Krishnan', 'lastname': 's', 'department': 'Economics'}\n",
      "{'_id': ObjectId('5f753327bb542c155279e8b2'), 'firstname': 'Krishnan', 'lastname': 'K', 'department': 'Aeronautical'}\n",
      "{'_id': ObjectId('5f753327bb542c155279e8b3'), 'firstname': 'Munirathinam', 'lastname': 'k', 'department': 'caretaker'}\n",
      "{'_id': ObjectId('5f753327bb542c155279e8b4'), 'firstname': 'punithavalli', 'lastname': 'K', 'department': 'maths'}\n",
      "{'_id': ObjectId('5f753327bb542c155279e8b5'), 'firstname': 'Prabavathi', 'lastname': 'K', 'department': 'English'}\n"
     ]
    }
   ],
   "source": [
    "# select * from employeeinfo\n",
    "for record in employeeinfo.find({}):\n",
    "    print(record)"
   ]
  },
  {
   "cell_type": "code",
   "execution_count": 8,
   "metadata": {},
   "outputs": [
    {
     "name": "stdout",
     "output_type": "stream",
     "text": [
      "{'_id': ObjectId('5f753323bb542c155279e8b1'), 'firstname': 'Krishnan', 'lastname': 's', 'department': 'Economics'}\n",
      "{'_id': ObjectId('5f753327bb542c155279e8b2'), 'firstname': 'Krishnan', 'lastname': 'K', 'department': 'Aeronautical'}\n"
     ]
    }
   ],
   "source": [
    "for record in employeeinfo.find({\"firstname\":\"Krishnan\"}):\n",
    "    print(record)"
   ]
  },
  {
   "cell_type": "code",
   "execution_count": 9,
   "metadata": {},
   "outputs": [
    {
     "data": {
      "text/plain": [
       "Collection(Database(MongoClient(host=['127.0.0.1:27017'], document_class=dict, tz_aware=False, connect=True), 'Employee'), 'Employeeinformation')"
      ]
     },
     "execution_count": 9,
     "metadata": {},
     "output_type": "execute_result"
    }
   ],
   "source": [
    "employeeinfo"
   ]
  },
  {
   "cell_type": "code",
   "execution_count": 12,
   "metadata": {},
   "outputs": [
    {
     "name": "stdout",
     "output_type": "stream",
     "text": [
      "{'_id': ObjectId('5f753323bb542c155279e8b1'), 'firstname': 'Krishnan', 'lastname': 's', 'department': 'Economics'}\n",
      "{'_id': ObjectId('5f753327bb542c155279e8b4'), 'firstname': 'punithavalli', 'lastname': 'K', 'department': 'maths'}\n"
     ]
    }
   ],
   "source": [
    "## Query documents using query operators($in,$lt,$gt)\n",
    "for record in employeeinfo.find({'department':{'$in':['Economics','maths']}}):\n",
    "    print(record)"
   ]
  },
  {
   "cell_type": "markdown",
   "metadata": {},
   "source": [
    "## MongoDb with python Updating Json Documents¶\n",
    "Functions to Discuss\n",
    "* pymongo.collection.Collection.update_one()\n",
    "* pymongo.collection.Collection.update_many()\n",
    "* pymongo.collection.Collection.replace_one()"
   ]
  },
  {
   "cell_type": "code",
   "execution_count": 13,
   "metadata": {},
   "outputs": [],
   "source": [
    "mydb1 = client[\"Inventory\"]\n",
    "invent = mydb1.inventory"
   ]
  },
  {
   "cell_type": "code",
   "execution_count": 14,
   "metadata": {},
   "outputs": [
    {
     "data": {
      "text/plain": [
       "<pymongo.results.InsertManyResult at 0x25a6a993488>"
      ]
     },
     "execution_count": 14,
     "metadata": {},
     "output_type": "execute_result"
    }
   ],
   "source": [
    "invent.insert_many([\n",
    "    {\"item\": \"canvas\",\n",
    "     \"qty\": 100,\n",
    "     \"size\": {\"h\": 28, \"w\": 35.5, \"uom\": \"cm\"},\n",
    "     \"status\": \"A\"},\n",
    "    {\"item\": \"journal\",\n",
    "     \"qty\": 25,\n",
    "     \"size\": {\"h\": 14, \"w\": 21, \"uom\": \"cm\"},\n",
    "     \"status\": \"A\"},\n",
    "    {\"item\": \"mat\",\n",
    "     \"qty\": 85,\n",
    "     \"size\": {\"h\": 27.9, \"w\": 35.5, \"uom\": \"cm\"},\n",
    "     \"status\": \"A\"},\n",
    "    {\"item\": \"mousepad\",\n",
    "     \"qty\": 25,\n",
    "     \"size\": {\"h\": 19, \"w\": 22.85, \"uom\": \"cm\"},\n",
    "     \"status\": \"P\"},\n",
    "    {\"item\": \"notebook\",\n",
    "     \"qty\": 50,\n",
    "     \"size\": {\"h\": 8.5, \"w\": 11, \"uom\": \"in\"},\n",
    "     \"status\": \"P\"},\n",
    "    {\"item\": \"paper\",\n",
    "     \"qty\": 100,\n",
    "     \"size\": {\"h\": 8.5, \"w\": 11, \"uom\": \"in\"},\n",
    "     \"status\": \"D\"},\n",
    "    {\"item\": \"planner\",\n",
    "     \"qty\": 75,\n",
    "     \"size\": {\"h\": 22.85, \"w\": 30, \"uom\": \"cm\"},\n",
    "     \"status\": \"D\"},\n",
    "    {\"item\": \"postcard\",\n",
    "     \"qty\": 45,\n",
    "     \"size\": {\"h\": 10, \"w\": 15.25, \"uom\": \"cm\"},\n",
    "     \"status\": \"A\"},\n",
    "    {\"item\": \"sketchbook\",\n",
    "     \"qty\": 80,\n",
    "     \"size\": {\"h\": 14, \"w\": 21, \"uom\": \"cm\"},\n",
    "     \"status\": \"A\"},\n",
    "    {\"item\": \"sketch pad\",\n",
    "     \"qty\": 95,\n",
    "     \"size\": {\"h\": 22.85, \"w\": 30.5, \"uom\": \"cm\"},\n",
    "     \"status\": \"A\"}])"
   ]
  },
  {
   "cell_type": "code",
   "execution_count": 15,
   "metadata": {},
   "outputs": [
    {
     "data": {
      "text/plain": [
       "<pymongo.results.UpdateResult at 0x25a6bfaf9c8>"
      ]
     },
     "execution_count": 15,
     "metadata": {},
     "output_type": "execute_result"
    }
   ],
   "source": [
    "invent.update_one(\n",
    "{\"item\":\"sketchbook\"},\n",
    "{\"$set\":{\"size.umo\":\"m\",\"status\":\"P\"},\n",
    "\"$currentDate\":{\"lastModified\":True}}\n",
    ")"
   ]
  },
  {
   "cell_type": "code",
   "execution_count": 16,
   "metadata": {},
   "outputs": [
    {
     "data": {
      "text/plain": [
       "<pymongo.results.UpdateResult at 0x25a6bfaa488>"
      ]
     },
     "execution_count": 16,
     "metadata": {},
     "output_type": "execute_result"
    }
   ],
   "source": [
    "\n",
    "invent.update_many(\n",
    "    {\"qty\": {\"$lt\": 50}},\n",
    "    {\"$set\": {\"size.uom\": \"in\", \"status\": \"P\"},\n",
    "     \"$currentDate\": {\"lastModified\": True}})"
   ]
  },
  {
   "cell_type": "code",
   "execution_count": 17,
   "metadata": {},
   "outputs": [
    {
     "data": {
      "text/plain": [
       "<pymongo.results.UpdateResult at 0x25a6afcf188>"
      ]
     },
     "execution_count": 17,
     "metadata": {},
     "output_type": "execute_result"
    }
   ],
   "source": [
    "invent.replace_one(\n",
    "    {\"item\": \"paper\"},\n",
    "    {\"item\": \"paper\",\n",
    "     \"instock\": [\n",
    "         {\"warehouse\": \"A\", \"qty\": 60},\n",
    "         {\"warehouse\": \"B\", \"qty\": 40}]})"
   ]
  },
  {
   "cell_type": "markdown",
   "metadata": {},
   "source": [
    "## Mongodb Aggregate And Group\n",
    "1. avg\n",
    "2. sum\n",
    "3. project"
   ]
  },
  {
   "cell_type": "code",
   "execution_count": 22,
   "metadata": {},
   "outputs": [
    {
     "data": {
      "text/plain": [
       "<pymongo.results.InsertManyResult at 0x25a6bfaf6c8>"
      ]
     },
     "execution_count": 22,
     "metadata": {},
     "output_type": "execute_result"
    }
   ],
   "source": [
    "mydatabase = client['Students']  \n",
    "    \n",
    "# Access collection of the database  \n",
    "collection=mydatabase['studentscores']  \n",
    "data = [ \n",
    "    {\"user\":\"harish\", \"subject\":\"Database\", \"score\":80}, \n",
    "    {\"user\":\"pant\",  \"subject\":\"Python\", \"score\":90}, \n",
    "    {\"user\":\"pant\",  \"title\":\"Database\", \"score\":85}, \n",
    "    {\"user\":\"harish\",  \"title\":\"Python\", \"score\":75}, \n",
    "    {\"user\":\"pant\",  \"title\":\"Data Science\", \"score\":60},\n",
    "    {\"user\":\"harish\",  \"title\":\"Data Science\", \"score\":95}] \n",
    "  \n",
    "collection.insert_many(data)"
   ]
  },
  {
   "cell_type": "code",
   "execution_count": 23,
   "metadata": {},
   "outputs": [],
   "source": [
    "\n",
    "### Find Amit And Krish Total Subjects\n",
    "agg_result= collection.aggregate( \n",
    "    [{ \n",
    "    \"$group\" :  \n",
    "        {\"_id\" : \"$user\",  \n",
    "         \"Total Subject\" : {\"$sum\" : 1} \n",
    "         }} \n",
    "    ])"
   ]
  },
  {
   "cell_type": "code",
   "execution_count": 24,
   "metadata": {},
   "outputs": [
    {
     "name": "stdout",
     "output_type": "stream",
     "text": [
      "{'_id': 'harish', 'Total Subject': 3}\n",
      "{'_id': 'pant', 'Total Subject': 3}\n"
     ]
    }
   ],
   "source": [
    "\n",
    "for i in agg_result: \n",
    "    print(i)"
   ]
  },
  {
   "cell_type": "code",
   "execution_count": 25,
   "metadata": {},
   "outputs": [
    {
     "name": "stdout",
     "output_type": "stream",
     "text": [
      "{'_id': 'harish', 'Total Marks': 250}\n",
      "{'_id': 'pant', 'Total Marks': 235}\n"
     ]
    }
   ],
   "source": [
    "### Calculating the total score based on user\n",
    "agg_result= collection.aggregate( \n",
    "    [{ \n",
    "    \"$group\" :  \n",
    "        {\"_id\" : \"$user\",  \n",
    "         \"Total Marks\" : {\"$sum\" :\"$score\"} \n",
    "         }} \n",
    "    ]) \n",
    "for i in agg_result: \n",
    "    print(i)"
   ]
  },
  {
   "cell_type": "code",
   "execution_count": 26,
   "metadata": {},
   "outputs": [
    {
     "name": "stdout",
     "output_type": "stream",
     "text": [
      "{'_id': 'pant', 'StudentScoreAverage': 78.33333333333333}\n",
      "{'_id': 'harish', 'StudentScoreAverage': 83.33333333333333}\n"
     ]
    }
   ],
   "source": [
    "### Calculating the average score based on user\n",
    "agg_result=collection.aggregate([\n",
    "   {\n",
    "      \"$group\": {\n",
    "         \"_id\": '$user',\n",
    "         \"StudentScoreAverage\": {\n",
    "            \"$avg\": \"$score\"\n",
    "         }\n",
    "      }\n",
    "   }\n",
    "])\n",
    "for i in agg_result: \n",
    "    print(i)\n"
   ]
  },
  {
   "cell_type": "code",
   "execution_count": 27,
   "metadata": {},
   "outputs": [],
   "source": [
    "import datetime as datetime"
   ]
  },
  {
   "cell_type": "code",
   "execution_count": 28,
   "metadata": {},
   "outputs": [],
   "source": [
    "### Create a new collection\n",
    "data=[{ \"_id\" : 1, \"item\" : \"abc\", \"price\" : 10, \"quantity\" : 2, \"date\" : datetime.datetime.utcnow()},\n",
    "{ \"_id\" : 2, \"item\" : \"jkl\", \"price\" : 20, \"quantity\" : 1, \"date\" : datetime.datetime.utcnow() },\n",
    "{ \"_id\" : 3, \"item\" : \"xyz\", \"price\" : 5, \"quantity\" : 5, \"date\" : datetime.datetime.utcnow() },\n",
    "{ \"_id\" : 4, \"item\" : \"abc\", \"price\" : 10, \"quantity\" : 10, \"date\" : datetime.datetime.utcnow() },\n",
    "{ \"_id\" : 5, \"item\" : \"xyz\", \"price\" : 5, \"quantity\" : 10, \"date\" :datetime.datetime.utcnow() }]"
   ]
  },
  {
   "cell_type": "code",
   "execution_count": 29,
   "metadata": {},
   "outputs": [
    {
     "data": {
      "text/plain": [
       "[{'_id': 1,\n",
       "  'item': 'abc',\n",
       "  'price': 10,\n",
       "  'quantity': 2,\n",
       "  'date': datetime.datetime(2020, 10, 1, 1, 45, 8, 408619)},\n",
       " {'_id': 2,\n",
       "  'item': 'jkl',\n",
       "  'price': 20,\n",
       "  'quantity': 1,\n",
       "  'date': datetime.datetime(2020, 10, 1, 1, 45, 8, 408619)},\n",
       " {'_id': 3,\n",
       "  'item': 'xyz',\n",
       "  'price': 5,\n",
       "  'quantity': 5,\n",
       "  'date': datetime.datetime(2020, 10, 1, 1, 45, 8, 409617)},\n",
       " {'_id': 4,\n",
       "  'item': 'abc',\n",
       "  'price': 10,\n",
       "  'quantity': 10,\n",
       "  'date': datetime.datetime(2020, 10, 1, 1, 45, 8, 409617)},\n",
       " {'_id': 5,\n",
       "  'item': 'xyz',\n",
       "  'price': 5,\n",
       "  'quantity': 10,\n",
       "  'date': datetime.datetime(2020, 10, 1, 1, 45, 8, 409617)}]"
      ]
     },
     "execution_count": 29,
     "metadata": {},
     "output_type": "execute_result"
    }
   ],
   "source": [
    "\n",
    "data"
   ]
  },
  {
   "cell_type": "code",
   "execution_count": 30,
   "metadata": {},
   "outputs": [
    {
     "data": {
      "text/plain": [
       "<pymongo.results.InsertManyResult at 0x25a6afb9908>"
      ]
     },
     "execution_count": 30,
     "metadata": {},
     "output_type": "execute_result"
    }
   ],
   "source": [
    "mycollection=mydatabase['stores']  \n",
    "mycollection.insert_many(data)"
   ]
  },
  {
   "cell_type": "code",
   "execution_count": 31,
   "metadata": {},
   "outputs": [
    {
     "name": "stdout",
     "output_type": "stream",
     "text": [
      "{'_id': 'abc', 'avgAmount': 60.0, 'avgQuantity': 6.0}\n",
      "{'_id': 'jkl', 'avgAmount': 20.0, 'avgQuantity': 1.0}\n",
      "{'_id': 'xyz', 'avgAmount': 37.5, 'avgQuantity': 7.5}\n"
     ]
    }
   ],
   "source": [
    "### Calculating the average quantity And Average Price\n",
    "agg_result=mycollection.aggregate([\n",
    "   {\n",
    "      \"$group\": {\n",
    "         \"_id\": '$item',\n",
    "         \"avgAmount\": {\"$avg\": {\"$multiply\": [ \"$price\", \"$quantity\" ]}},\n",
    "          \"avgQuantity\": { \"$avg\": \"$quantity\" }\n",
    "      }\n",
    "   }\n",
    "])\n",
    "for i in agg_result: \n",
    "    print(i)"
   ]
  },
  {
   "cell_type": "code",
   "execution_count": 32,
   "metadata": {},
   "outputs": [],
   "source": [
    "#### $Project\n",
    "\n",
    "data=[{\n",
    "  \"_id\" : 1,\n",
    "  \"title\": \"abc123\",\n",
    "  \"isbn\": \"0001122223334\",\n",
    "  \"author\": { \"last\": \"zzz\", \"first\": \"aaa\" },\n",
    "  \"copies\": 5\n",
    "},\n",
    "{\n",
    "  \"_id\" : 2,\n",
    "  \"title\": \"Baked Goods\",\n",
    "  \"isbn\": \"9999999999999\",\n",
    "  \"author\": { \"last\": \"xyz\", \"first\": \"abc\", \"middle\": \"\" },\n",
    "  \"copies\": 2\n",
    "}\n",
    "]\n"
   ]
  },
  {
   "cell_type": "code",
   "execution_count": 33,
   "metadata": {},
   "outputs": [],
   "source": [
    "\n",
    "# Access collection of the database  \n",
    "collection=mydatabase['Books']"
   ]
  },
  {
   "cell_type": "code",
   "execution_count": 34,
   "metadata": {},
   "outputs": [
    {
     "data": {
      "text/plain": [
       "<pymongo.results.InsertManyResult at 0x25a6afcf8c8>"
      ]
     },
     "execution_count": 34,
     "metadata": {},
     "output_type": "execute_result"
    }
   ],
   "source": [
    "collection.insert_many(data)"
   ]
  },
  {
   "cell_type": "code",
   "execution_count": 35,
   "metadata": {},
   "outputs": [
    {
     "name": "stdout",
     "output_type": "stream",
     "text": [
      "{'_id': 1, 'title': 'abc123', 'isbn': '0001122223334'}\n",
      "{'_id': 2, 'title': 'Baked Goods', 'isbn': '9999999999999'}\n"
     ]
    }
   ],
   "source": [
    "for row in collection.aggregate( [ { \"$project\": { \"title\": 1,\"isbn\":1 } } ] ):\n",
    "    print(row)"
   ]
  },
  {
   "cell_type": "code",
   "execution_count": null,
   "metadata": {},
   "outputs": [],
   "source": []
  }
 ],
 "metadata": {
  "kernelspec": {
   "display_name": "Python 3",
   "language": "python",
   "name": "python3"
  },
  "language_info": {
   "codemirror_mode": {
    "name": "ipython",
    "version": 3
   },
   "file_extension": ".py",
   "mimetype": "text/x-python",
   "name": "python",
   "nbconvert_exporter": "python",
   "pygments_lexer": "ipython3",
   "version": "3.7.4"
  }
 },
 "nbformat": 4,
 "nbformat_minor": 2
}
